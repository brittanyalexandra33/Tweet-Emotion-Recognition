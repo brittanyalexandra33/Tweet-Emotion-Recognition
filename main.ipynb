{
 "cells": [
  {
   "cell_type": "markdown",
   "metadata": {},
   "source": []
  },
  {
   "cell_type": "code",
   "execution_count": 46,
   "metadata": {},
   "outputs": [],
   "source": [
    "# !pip install nlp\n",
    "# !pip install tensorflow\n",
    "import tensorflow as tf\n",
    "import numpy as np\n",
    "import matplotlib.pyplot as plt\n",
    "import nlp as nlp\n",
    "from tensorflow.keras.preprocessing.text import Tokenizer\n",
    "from tensorflow.keras.preprocessing.sequence import pad_sequences\n",
    "# import random"
   ]
  },
  {
   "cell_type": "markdown",
   "metadata": {},
   "source": [
    "# Setup "
   ]
  },
  {
   "cell_type": "code",
   "execution_count": 10,
   "metadata": {},
   "outputs": [],
   "source": [
    "def show_history(h):\n",
    "    epochs_trained = len(h.history['loss'])\n",
    "    plt.figure(figsize=(12, 4))\n",
    "    \n",
    "    plt.subplot(1, 2, 1)\n",
    "    plt.plot(range(0, epochs_trained), h.history['loss'], label='train')\n",
    "    plt.plot(range(0, epochs_trained), h.history['val_loss'], label='validation')\n",
    "    plt.title('Loss')\n",
    "    plt.title('Epochs')\n",
    "    plt.legend()\n",
    "    plt.show()\n",
    "    \n",
    "def show_confusion_matrix(y_true, y_pred, classes): \n",
    "    from sklearn.metrics import confusion_matrix\n",
    "    \n",
    "    cm = confusion_matrix(y_true, y_pred)\n",
    "    plt.figure(figsize=(8,8))\n",
    "    sp = plt.subplot(1, 1, 1)\n",
    "    ctx = sp.matshow(cm, cmap=plt.cm.Blues)\n",
    "    plt.xticks(range(len(classes)), classes, rotation=45)\n",
    "    plt.yticks(range(len(classes)), classes)\n",
    "    plt.xlabel('Predicted')\n",
    "    plt.ylabel('True')\n",
    "    plt.colorbar(ctx)\n",
    "    plt.show()\n",
    "    \n",
    "    print('Using tensorflow version', tf.__version__)\n",
    "    "
   ]
  },
  {
   "cell_type": "markdown",
   "metadata": {},
   "source": [
    "# Importing data\n",
    "- Importing tweet emotion dataset\n",
    "- Creating train, validation, and test sets\n",
    "- Extracting tweets and labels from the examples\n"
   ]
  },
  {
   "cell_type": "code",
   "execution_count": 14,
   "metadata": {},
   "outputs": [
    {
     "name": "stdout",
     "output_type": "stream",
     "text": [
      "nvidia/OpenMathReasoning, OpenGVLab/InternVL-Data, nvidia/OpenCodeReasoning, nvidia/Nemotron-CrossThink, Eureka-Lab/PHYBench, rajpurkarlab/ReXGradient-160K, Anthropic/values-in-the-wild, deepseek-ai/DeepSeek-ProverBench, fka/awesome-chatgpt-prompts, nvidia/dynpose-100k, openai/gsm8k, Rapidata/text-2-image-Rich-Human-Feedback-32k, nvidia/describe-anything-dataset, syCen/CameraBench, nyuuzyou/svgfind, gaia-benchmark/GAIA, open-r1/OpenR1-Math-220k, zwhe99/DeepMath-103K, nvidia/When2Call, Amod/mental_health_counseling_conversations, Kaichengalex/RealSyn100M, future-technologies/Universal-Transformers-Dataset, FreedomIntelligence/medical-o1-reasoning-SFT, Congliu/Chinese-DeepSeek-R1-Distill-data-110k, LLM360/MegaMath, Giova-tech/sentiment-analysis-test, nvidia/Llama-Nemotron-Post-Training-Dataset, qwertychri/sentiment-analysis-test, a-m-team/AM-DeepSeek-Distilled-40M, wikimedia/wikipedia, HuggingFaceFW/fineweb, Aleph-Alpha/Aleph-Alpha-GermanWeb, Felipeit/sentiment-analysis-test, Riccardoschillaci7/sentiment-analysis-test, Cocciadipollo/sentiment-analysis-test, Merlinooooo/sentiment-analysis-test, happycircus1/sentiment-analysis-test, quotientai/HalluMix, cais/mmlu, amphion/Emilia-Dataset, Genius-Society/hoyoTTS, Genius-Society/wwTTS, reyavir/PromptEvals, Anthropic/EconomicIndex, amazon-agi/SIFT-50M, nvidia/OpenCodeInstruct, Liux69/sentiment-analysis-test, JoeYing/ReTool-SFT, stepfun-ai/GEdit-Bench, kindred-soul-ltd/kindred-ecommerce-merchant-deals-dataset, ealvaradob/phishing-dataset, omar07ibrahim/testlimOcrCA, bigcode/the-stack-v2, UCSC-VLAA/MedTrinity-25M, Salesforce/xlam-function-calling-60k, allenai/olmOCR-mix-0225, AI-MO/CombiBench, tahoebio/Tahoe-100M, nvidia/PhysicalAI-SmartSpaces, giskardai/phare, Mxode/Chinese-Instruct, diffusion-cot/GenRef-wds, onnx-community/model-explorer, twinkle-ai/tw-function-call-reasoning-10k, deepmind/aqua_rat, dair-ai/emotion, ILSVRC/imagenet-1k, MLCommons/peoples_speech, bigcode/the-stack, Anthropic/hh-rlhf, tatsu-lab/alpaca, bigcode/starcoderdata, Open-Orca/OpenOrca, uonlp/CulturaX, omar07ibrahim/AZERBAIJAN-ENGLISH-DATASET, jondurbin/gutenberg-dpo-v0.1, mozilla-foundation/common_voice_17_0, LanguageShades/BiasShades, laion/laions_got_talent, allenai/tulu-3-sft-mixture, HuggingFaceH4/MATH-500, HuggingFaceTB/smoltalk, allenai/RLVR-MATH, HuggingFaceTB/finemath, cais/hle, Kuugo/chinese_law_ft_dataset, a-m-team/AM-DeepSeek-R1-Distilled-1.4M, AimonLabs/HDM-Bench, Uni-MoE/VideoVista-CulturalLingo, openai/graphwalks, marcodsn/academic-chains, miscovery/arabic_egypt_english_world_facts, huihui-ai/harmbench_behaviors, KingNish/mini_reasoning_1k, xingxm/SVGX-SFT-1M, NilanE/ComplexMultistepImageEditing, ZennyKenny/synthetic_vc_financial_decisions_reasoning_dataset, SWE-bench/SWE-smith, reasonir/reasonir-data, abisee/cnn_dailymail, nyu-mll/glue, google-research-datasets/mbpp, cornell-movie-review-data/rotten_tomatoes, allenai/c4, facebook/multilingual_librispeech, facebook/voxpopuli, truthfulqa/truthful_qa, mozilla-foundation/common_voice_11_0, tiiuae/falcon-refinedweb, mikex86/stackoverflow-posts, allenai/dolma, iamtarun/code_instructions_120k_alpaca, iamtarun/python_code_instructions_18k_alpaca, lavita/ChatDoctor-HealthCareMagic-100k, lmsys/lmsys-chat-1m, openbmb/UltraFeedback, a686d380/h-corpus-2023, HuggingFaceH4/ultrafeedback_binarized, joujiboi/japanese-anime-speech, MLCommons/unsupervised_peoples_speech, MMMU/MMMU, Idavidrein/gpqa, McAuley-Lab/Amazon-Reviews-2023, osunlp/Multimodal-Mind2Web, gretelai/synthetic_text_to_sql, HuggingFaceM4/the_cauldron, simon3000/genshin-voice, simon3000/starrail-voice, ylacombe/expresso, ruslanmv/ai-medical-dataset, HuggingFaceFW/fineweb-edu, bigcode/bigcodebench, rungalileo/ragbench, xlangai/BRIGHT, Omartificial-Intelligence-Space/Arab3M-Triplets, princeton-nlp/SWE-bench_Verified, Team-ACE/ToolACE, google/frames-benchmark, MichaelR207/enron_qa_0922, Omartificial-Intelligence-Space/Arabic-With-Ranked-Hard-Negatives, Major-TOM/Core-S2L1C-DeCUR, chaoyue7/reacto_data, nyuuzyou/paintberri, open-thoughts/OpenThoughts-114k, MatthiasPicard/Frugal-AI-Train-Data-88k, open-r1/codeforces, Conard/fortune-telling, allenai/tulu-3-sft-olmo-2-mixture-0225, Penicbird/ChukJunGyeong, GeneralReasoning/GeneralThought-430K, agents-course/unit3-invitees, UCSC-VLAA/MedReason, xingjianleng/open-image-preferences-ft, MrDragonFox/Elise, FBK-TeV/FreeGraspData, facebook/PLM-Video-Human, thomwolf/notebooklm-sample, twinkle-ai/tw-reasoning-instruct-50k, wanglab/LLD-MMRI-MedSAM2, OmniSVG/MMSVG-Illustration, loubb/aria-midi, divarofficial/real_estate_ads, OpenGVLab/MMPR-v1.2, SUSTech/ChineseSafe, VisuLogic/VisuLogic-Train, agents-course/unit4-students-scores, yu0226/CipherBank, OptimalScale/ClimbLab, ArabovMK/shahnameh-tajik-corpus, SmallDoge/SmallTalks, yhaha/EmoVoice-DB, Aratako/Synthetic-Japanese-Roleplay-SFW-DeepSeek-V3-0324-20k, ProCreations/SimpleMath, ChrisDing1105/MMIF-23k, nyuuzyou/svgrepo, projectlosangeles/Godzilla-MIDI-Dataset, SWE-bench/SWE-smith-trajectories, yyyyyyjjjjzzz/competitive-game-dataset, prithivMLmods/Deepfake-vs-Real-60K, unsloth/OpenMathReasoning-mini, fancyzhx/ag_news, vblagoje/cc_news, google-research-datasets/go_emotions, openslr/librispeech_asr, ylecun/mnist, microsoft/ms_marco, Skylion007/openwebtext, qiaojin/PubMedQA, mbien/recipe_nlg, rajpurkar/squad, cgpotts/swda, EleutherAI/pile, mandarjoshi/trivia_qa, legacy-datasets/wikipedia, bigscience/P3, codeparrot/github-code, huggan/smithsonian-butterfly-lowres, google/fleurs, HuggingFaceM4/VQAv2, naver-clova-ix/synthdog-ko, edinburghcstr/ami, poloclub/diffusiondb, bond005/sova_rudevices, hoskinson-center/proofnet, TheFusion21/PokemonCards, reazon-research/reazonspeech, GBaker/MedQA-USMLE-4-options, google/MusicCaps, gsdf/EasyNegative, gbharti/finance-alpaca, BelleGroup/multiturn_chat_0.8M, fddemarco/pushshift-reddit-comments, cvssp/WavCaps, togethercomputer/RedPajama-Data-1T, zhengyun21/PMC-Patients, cognitivecomputations/WizardLM_alpaca_evol_instruct_70k_unfiltered, rickRossie/bluemoon_roleplay_chat_data_300k_messages, roneneldan/TinyStories, cognitivecomputations/samantha-data, Aeala/ShareGPT_Vicuna_unfiltered, Cainiao-AI/LaDe, cerebras/SlimPajama-627B, osunlp/Mind2Web, dgslibisey/MuSiQue, open-llm-leaderboard-old/results, y2lan/japan-law, allenai/objaverse-xl, ticoAg/Chinese-medical-dialogue, bstee615/bigvul, Intel/orca_dpo_pairs, zimhe/pseudo-floor-plan-12k, a686d380/h-corpus-raw, FreedomIntelligence/Huatuo26M-Lite, jxu124/OpenX-Embodiment, jhu-clsp/seamless-align, HuggingFaceH4/ultrachat_200k, Malikeh1375/medical-question-answering-datasets, m-a-p/COIG-CQIA, Luckyjhg/Geo170K, nyanko7/danbooru2023, satellogic/EarthView, climateset/climateset, G11/climate_adaptation_text, cardiffnlp/x_sensitive, Salesforce/lotsa_data, MathLLMs/MathVision, AkashPS11/recipes_data_food.com, prometheus-eval/BiGGen-Bench-Results, capleaf/viVoice, victunes/nart-100k-synthetic-buddy-mixed-names, xai-org/RealworldQA, ibm-research/Climate-Change-NER, choosealicense/licenses, sentence-transformers/msmarco-distilbert-margin-mse-mean-dot-v1, alexantonov/chuvash_voice, TIGER-Lab/MMLU-Pro, HumanLLMs/Human-Like-DPO-Dataset, hw-liang/Diffusion4D, OpenGVLab/ShareGPT-4o, Den-Intelligente-Patientjournal/Medical_word_embedding_eval, OOPPEENN/Galgame_Dataset, AI4Sec/cti-bench, ncbi/MedCalc-Bench-v1.0, BGLab/mpf-bench, allenai/wildjailbreak, ASSERT-KTH/FLAMES_results, FreedomIntelligence/PubMedVision, proj-persona/PersonaHub, agentsea/wave-ui-25k, QuietImpostor/Claude-3-Opus-Claude-3.5-Sonnnet-9k, HuggingFaceM4/Docmatix, Multilingual-Multimodal-NLP/TableBench, cnamuangtoun/resume-job-description-fit, omar07ibrahim/660K_AZERBAIJAN-ENGLISH_PARALLEL, deepseek-ai/DeepSeek-Prover-V1, gallen881/arxiv-physics, SimpleStories/SimpleStories, InfiniFlow/medical_QA, openvla/modified_libero_rlds, MahtaFetrat/KaamelDict, jingyaogong/minimind_dataset, gpt-omni/VoiceAssistant-400K, Gryphe/ChatGPT-4o-Writing-Prompts, openai/MMMLU, KbsdJames/Omni-MATH, Dragunflie-420/FMADataset, Spawning/PD12M, weizhiwang/Open-Qwen2VL-Data, ARTPARK-IISc/Vaani, BAAI/Infinity-MM, juliozhao/DocSynth300K, Shubhangi29/llava_med_instruct_60k_inline_mention_filtered, ai4bharat/MILU, ailsntua/Chordonomicon, udell-lab/NLP4LP, picollect/danbooru, PleIAs/common_corpus, qgyd2021/chinese_porn_novel, mrcuddle/NSFW-Stories-JsonL, foursquare/fsq-os-places, yzwang/X2I-subject-driven, Maxwell-Jia/AIME_2024, HuggingFaceFW/fineweb-2, Amr-khaled/Egyptian-Arabic_English_V1, ServiceNow-AI/Abstain-QA, nebhailema/AmaSquad, likaixin/ScreenSpot-Pro, Locutusque/Collective-Evol-Instruct-v0.1, JUNJIE99/MegaPairs, Major-TOM/Core-S1RTC-DeCUR, JeffreyXiang/TRELLIS-500K, RafaelJaime/calisthenics_exercises, zhouhongyi/calvin_abc_rlds, sacrificialpancakes/synthetic_demographics_seed, opencsg/Fineweb-Edu-Chinese-V2.1, magic-mirror/tsdm-lossless-music-2-dsd, ChuGyouk/PubMedVision-EnKo, bespokelabs/Bespoke-Stratos-17k, osunlp/UGround-V1-Data, Jiayi-Pan/Countdown-Tasks-3to4, Crisp-Unimib/ITALIC, fleaven/Retargeted_AMASS_for_robotics, EricLu/SCP-116K, AndriyBilinskiy/logical-reasoning-ua, BramVanroy/CommonCrawl-CreativeCommons, jsm0424/korean-cipher, CGIAR/gardian-cigi-ai-documents, yueliu1999/GuardReasonerTrain, WWKJ/Pre_Post_Treatment_Circle_of_Willis, EunsuKim/MergedBench, Major-TOM/Core-S2L2A-MMEarth, madrylab/platinum-bench-paper-version, GAIR/LIMO, mkhLlamaLearn/dfdcpics2, TransferRapid/CommonVoices20_ro, google/wmt24pp, BTX24/tekno21-brain-stroke-dataset-binary, Maitreya152/CaD_Graphs, mlabonne/s1K-formatted, opencompass/AIME2025, ServiceNow-AI/DNRBench, openSUSE/cavil-legal-text, rockerBOO/t5-v1_1-small-k-mktr-improved-flux-prompts-latents, getomni-ai/ocr-benchmark, WiroAI/dolphin-r1-italian, open-r1/verifiable-coding-problems-python, DataTonic/dark_thoughts_casestudies_en_cn, ChuGyouk/medical-reasoning-train-kormedmcqa, trendmicro-ailab/Primus-FineWeb, FreedomIntelligence/Medical-R1-Distill-Data, THUIR/Qilin, vrg-prague/ilias, asigalov61/MIDI-Cores, BAAI/OpenSeek-Synthetic-Reasoning-Data-Examples, wzzzq/MMLU-PRO-Leveled-TinyBench, microsoft/Iter-DPO-Dataset, glaiveai/reasoning-v1-20m, ttgeng233/LongVALE, dmariko/clinical-trials-xml-2018-2024, ajd12342/paraspeechcaps, rockerBOO/trefle_dump, qihoo360/Light-R1-SFTData, dnkdnk/CVTG-2K, BoDai/HorizonGS, CharlieDreemur/OpenManus-RL, reedmayhew/claude-3.7-sonnet-reasoning, AnonRes/OpenMind, microsoft/rifts, teapotai/synthqa, mueller91/MLAAD, Enxin/Video-MMLU, BytedTsinghua-SIA/DAPO-Math-17k, PixelAI-Team/TalkBody4D, knoveleng/open-rs, lumolabs-ai/Lumo-Fart-DS-Instruct, evborjnvioerjnvuowsetngboetgjbeigjaweuofjf/I-love-capybara, Aziliza/lean-nl-sft, orby/jfk_files, zlatinb/jfk-2025-raw, Super-shuhe/FaceID-6M, osunlp/Online-Mind2Web, minghaowu/OpenPersona, YaraMou/DS2, YaraMou/DS3, fibonacciai/Persian-Wikipedia-QA, jellyczd/HumanRig, MBZUAI-LLM/Mobile-MMLU-Pro, FMiMiY/SS-GEN, polygom-team/8K8K, facebook/PE-Video, VisualCloze/Graph200K, virtuoussy/Multi-subject-RLVR, diplucky7/Counter, dipmakecryptofun/Remember, wanglab/CT_DeepLesion-MedSAM2, UCSC-VLAA/STAR-1, open-thoughts/OpenThoughts2-1M, KillerShoaib/DeepSeek-r1-Distill-Bangla-MMLU-Reasoning-Data, emre/TARA_Turkish_LLM_Benchmark, SBB/VD-Metadata, osunlp/Dreamer-V1-Data, BAAI/OpenSeek-Pretrain-100B, PleIAs/GoldenSwag, sst12345/Our_ILSVRC, nyuuzyou/ruforum, ashynf/OpenFWI, openai/mrcr, Hillal-titouh/tamazight-kabyle-text, raincandy-u/OpenThoughts-79k-filtered-Translated-Chinese-10k-cleaned, prithivMLmods/Multilabel-Portrait-18K, lmarena-ai/search-arena-v1-7k, MrDragonFox/EN_Emilia_Yodas_616h, PrimeIntellect/Intellect-2-RL-Dataset, allganize/IFEval-Ko, Mels22/SigDetectVerifyFlow, jwgcurrie/synthetic-distance, xsample/tulu-3-mig-50k, ddupont/test-dataset, isp-uv-es/rtm_emulation, XythicK/Titanic, Mxode/Meow-Reasoning-100K, Mxode/Chinese-Reasoning-Distil-Data, rubenroy/StarCloud, Slait/russia_voices, TIGER-Lab/ViRL39K, weaverbirdllm/famma-reasoning, lang-uk/WikiEdits-MultiGEC, ieasybooks-org/waqfeya-library, WensongSong/AnyInsertion, lang-uk/UberText-NER-Silver, dmis-lab/meerkat-instructions, peter-sushko/RealEdit, CataAI/PoseX, allenai/olmo-2-0425-1b-preference-mix, Bhikshapathi/Dual_mirror, yinyue27/RefRef, Misraj/Sadeed_Tashkeela, Misraj/SadeedDiac-25, xingxm/SVGX-Core-250k, KingNish/AIME-COD, THUIAR/MMLA-Datasets, moonshotai/Kimi-Audio-GenTest, lombardata/seatizen_atlas_image_dataset, ReadyAi/5000-podcast-conversations-with-metadata-and-embedding-dataset, microsoft/echelon-original-eef-main_right_wrist, chonkie-ai/chonkiepedia, twinkle-ai/tw-math-reasoning-2k, YLab-Open/BRIDGE-Open, microsoft/CoSAlign, Kevin355/Who_and_When, moremilk/CoT_Reasoning_The_Ancient_Past, nyuuzyou/clker-svg, KingNish/deny-harmful-behaviour, AxeML/MiniSetPT, nlpllmeval/NLP-Course-LLM-Reasoning-Eval-May2025, ystemsrx/Erotic_Literature_Collection, ade-benchmark-corpus/ade_corpus_v2, UCLNLP/adversarial_qa, Yale-LILY/aeslc, allenai/ai2_arc, google/air_dialogue, fancyzhx/amazon_polarity, sewon/ambig_qa, facebook/anli, sealuzh/app_reviews, hadyelsahar/ar_res_reviews, abuelkhair-corpus/arabic_billion_words, halabi2016/arabic_speech_corpus, arxiv-community/arxiv_dataset, tuanphong/ascent_kb, achrafothman/aslg_pc12, nilc-nlp/assin, nilc-nlp/assin2, allenai/atomic, facebook/babi_qa, legacy-datasets/banking77, phiwi/bbaw_egyptian, spyysalo/bc2gm_corpus, AI-Lab-Makerere/beans, Helsinki-NLP/bible_para, NortheasternUniversity/big_patent, FiscalNote/billsum, nlpaueb/biomrc, TheBritishLibrary/blbooks, ParlAI/blended_skill_talk, nyu-mll/blimp, rezacsedu/bn_hate_speech, bookcorpus/bookcorpus, defunct-datasets/bookcorpusopen, google/boolq, ryo0634/bsd_ja_en, legacy-datasets/c4, china-ai-law-challenge/cail2018, kchawla123/casino, microsoft/cats_vs_dogs, cam-cst/cbt, statmt/cc100, ahelk/ccaligned_multilingual, google-research-datasets/cfq, shiyue/chr_en, uoft-cs/cifar10, uoft-cs/cifar100, google/civil_comments, tdiggelm/climate_fever, clinc/clinc_oos, clue/clue, jaredfern/codah, code-search-net/code_search_net, google/code_x_glue_cc_clone_detection_big_clone_bench, google/code_x_glue_cc_code_to_code_trans, google/code_x_glue_ct_code_to_text, google/code_x_glue_tc_nl_code_search_adv, google/code_x_glue_tc_text_to_code, allenai/common_gen, speechbrain/common_language, legacy-datasets/common_voice, tau/commonsense_qa, hendrycks/competition_math, conceptnet5/conceptnet5, eriktks/conll2002, eriktks/conll2003, ZihanWangKi/conllpp, CFPB/consumer-finance-complaints, convai-challenge/conv_ai_2, stanfordnlp/coqa, cornell-movie-dialog/cornell_movie_dialog, allenai/cosmos_qa, deepset/covid_qa_deepset, facebook/covost2, rishitdagli/cppe-5, stanfordnlp/craigslist_bargains, microsoft/crd3, nyu-mll/crows_pairs, aviaefrat/cryptonite, theatticusproject/cuad-qa, facebook/curiosity_dialogs, li2017dailydialog/daily_dialog, Yale-LILY/dart, fancyzhx/dbpedia_14, community-datasets/definite_pronoun_resolution, google-research-datasets/discofuse, google-research-datasets/disfl_qa, IBM/doc2dial, thunlp/docred, ucinlp/drop, AUEB-NLP/ecthr_cases, community-datasets/ehealth_kd, tulipa762/electricity_load_diagrams, defunct-datasets/eli5, Helsinki-NLP/emea, emotone-ar-cicling2017/emotone_ar, facebook/empathetic_dialogues, iamollas/ethos, NLP-AUEB/eurlex, Helsinki-NLP/europarl, jaydeyoung/evidence_infer_treatment, mhardalov/exams, zalando-datasets/fashion_mnist, fever/fever, thunlp/few_rel, takala/financial_phrasebank, ethz/food101, Harvard/gigaword, community-datasets/glucose, allenai/gooaq, AI-team-UoA/greek_legal_code, usc-isi/hansards, Elnagara/hard, odegiber/hate_speech18, tdavidson/hate_speech_offensive, Rowan/hellaswag, hotpotqa/hotpot_qa, hover-nlp/hover, fajrikoto/id_liputan6, ignatius/igbo_english_machine_translation, stanfordnlp/imdb, indonlp/indonlu, jhu-clsp/jfleg, google/jigsaw_toxicity_pred, Helsinki-NLP/kde4, facebook/kilt_tasks, facebook/kilt_wikipedia, klue/klue, nlp-kmu/kor_ner, cimec/lambada, mohnish/lc_quad, peluz/lener_br, coastalcph/lex_glue, ucsbnlp/liar, keithito/lj_speech, billion-word-benchmark/lm1b, lst-nectec/lst20, deepmind/math_dataset, allenai/math_qa, UCSD26/medical_dialog, curaihealth/medical_questions_pairs, UdS-LSV/menyo20k_mt, reciTAL/mlsum, mrqa-workshop/mrqa, IWSLT/mt_eng_vietnamese, coastalcph/multi_eurlex, alexfabbri/multi_news, nyu-mll/multi_nli, google-research-datasets/multi_re_qa, pfb30/multi_woz_v22, ayehninnkhine/myanmar_news, deepmind/narrativeqa, google-research-datasets/natural_questions, ncbi/ncbi_disease, Helsinki-NLP/news_commentary, liaad/newspop, Maluuba/newsqa, lil-lab/newsroom, google-research-datasets/nq_open, e9t/nsmc, INK-USC/numer_sense, vpmoreira/offcombr, community-datasets/ohsumed, Helsinki-NLP/open_subtitles, openai/openai_humaneval, allenai/openbookqa, openslr/openslr, Helsinki-NLP/opus-100, Helsinki-NLP/opus_books, Helsinki-NLP/opus_infopankki, oscar-corpus/oscar, google-research-datasets/paws-x, google-research-datasets/paws, peixiang/pec, allenai/peer_read, peoples-daily-ner/peoples_daily_ner, deepmind/pg19, google-research-datasets/poem_sentiment, ncbi/pubmed, community-datasets/qa4mre, allenai/qasc, allenai/qasper, allenai/quac, textmachinelab/quail, allenai/quoref, ehovy/race, kdexd/red_caps, webis/tldr-17, INK-USC/riddle_sense, dumitrescustefan/ro_sent, community-datasets/ronec, RussianNLP/russian_super_glue, Samsung/samsum, inparallel/saudinewsnet, kuznetsoffandrey/sberquad, scan-tasks/scan-tasks, zhoubolei/scene_parse_150, community-datasets/scielo, armanc/scientific_papers, allenai/scifact, allenai/sciq, allenai/scitldr, hirupert/sede, SemEvalWorkshop/sem_eval_2010_task_8, SemEvalWorkshop/sem_eval_2018_task_1, SemEvalWorkshop/sem_eval_2020_task_11, community-datasets/senti_ws, stanfordnlp/sentiment140, RobZamp/sick, eusip/silicone, sonos-nlu-benchmark/snips_built_in_intents, stanfordnlp/snli, allenai/social_bias_frames, allenai/social_i_qa, google/speech_commands, xlangai/spider, stanfordnlp/squad_adversarial, KorQuAD/squad_kor_v1, KorQuAD/squad_kor_v2, nunorc/squad_v1_pt, rajpurkar/squad_v2, stanfordnlp/sst, McGill-NLP/stereoset, PhilipMay/stsb_multi_mt, megagonlabs/subjqa, aps/super_glue, s3prl/superb, ufldl-stanford/svhn, allenai/swag, community-datasets/tamilmixsentiment, community-datasets/tapaco, community-datasets/tashkeela, google-research-datasets/taskmaster1, Helsinki-NLP/tatoeba, IWSLT/ted_talks_iwslt, tmu-nlp/thai_toxicity_tweet, google-research-datasets/time_dial, timit-asr/timit_asr, karpathy/tiny_shakespeare, JAugusto97/told-br, google-research-datasets/totto, CogComp/trec, erayyildiz/turkish_ner, fthbrmnby/turkish_product_reviews, cardiffnlp/tweet_eval, ucsbnlp/tweet_qa, tweets-hate-speech-detection/tweets_hate_speech_detection, google-research-datasets/tydiqa, ubuntu-dialogs-corpus/ubuntu_dialogs_corpus, Helsinki-NLP/un_ga, Helsinki-NLP/multiun, Helsinki-NLP/un_pc, universal-dependencies/universal_dependencies, community-datasets/urdu_fake_news, CSTR-Edinburgh/vctk, AILAB-VNUHCM/vivos, webnlg-challenge/web_nlg, Stanford/web_questions, hltcoe/weibo_ner, google/wiki40b, michaelauli/wiki_bio, facebook/wiki_dpr, esdurmus/wiki_lingua, facebook/wiki_movies, microsoft/wiki_qa, community-datasets/wiki_snippets, unimelb-nlp/wikiann, Salesforce/wikisql, Salesforce/wikitext, uclanlp/wino_bias, pythainlp/wisesight_sentiment, wmt/wmt16, wmt/wmt18, wmt/wmt19, leondz/wnut_17, Wongnai/wongnai_reviews, ZurichNLP/x_stance, facebook/xnli, google/xquad, EdinburghNLP/xsum, google/xtreme, community-datasets/yahoo_answers_topics, fancyzhx/yelp_polarity, Yelp/yelp_review_full, community-datasets/youtube_caption_corrections, Abirate/english_quotes, Akila/ForgottenRealmsWikiDataset, Babelscape/rebel-dataset, Babelscape/wikineural, TheBritishLibrary/EThOS-PhD-metadata, CAiRE/ASCEND, ChristophSchuhmann/MS_COCO_2017_URL_TEXT, CodedotAI/code_clippy_github, DDSC/dkhate, GEM/CrossWOZ, GEM/SciDuet, GEM/Taskmaster, GEM/cochrane-simplification, GEM/schema_guided_dialog, GonzaloA/fake_news, HUPD/hupd, Hellisotherpeople/DebateSum, Helsinki-NLP/tatoeba_mt, IlyaGusev/gazeta, Jean-Baptiste/wikiner_fr, JonathanSum/github-issues, LeoCordoba/CC-NEWS-ES, LoganKells/amazon_product_reviews_video_games, Motahar/github-issues, NbAiLab/NPSC, NbAiLab/norwegian_parliament, PlanTL-GOB-ES/cantemist-ner, Sabokou/qg_squad_modified_dev, SetFit/20_newsgroups, SetFit/ag_news, SetFit/bbc-news, SetFit/emotion, SetFit/hate_speech18, SetFit/mrpc, SetFit/qnli, SetFit/sst2, SetFit/sst5, ShreyaR/DepressionDetection, SoLID/shellcode_i_a32, SocialGrep/one-million-reddit-confessions, SocialGrep/one-million-reddit-jokes, SophieTr/reddit_clean, MonoHime/ru_sentiment_dataset, Tevatron/msmarco-passage-corpus, Tevatron/msmarco-passage, ai4bharat/samanantar, albertvillanova/legal_contracts, alexantonov/chuvash_parallel, maastrichtlawtech/bsard, benjaminbeilharz/daily_dialog_w_turn_templates, bertin-project/mc4-sampling, bhavnicksm/sentihood, ccdv/arxiv-classification, ccdv/arxiv-summarization, ccdv/govreport-summarization, ccdv/patent-classification, ccdv/pubmed-summarization, cfilt/iitb-english-hindi, clips/mfaq, clips/mqa, cointegrated/ru-paraphrase-NMT-Leipzig, corypaik/coda, craffel/openai_lambada, csebuetnlp/xlsum, csebuetnlp/xnli_bn, dalle-mini/YFCC100M_OpenAI_subset, dalle-mini/wit, darentang/generated, DebateLabKIT/aaac, dennlinger/klexikon, dev/untitled_imgs, DFKI-SLT/few-nerd, efederici/autonlp-data-Ita-Summarization, espejelomar/code_search_net_python_10000_examples, eugenesiow/Div2k, flax-community/german-common-voice-processed, flax-sentence-embeddings/stackexchange_math_jsonl, flxclxc/encoded_drug_reviews, frtna/jwt300_mt, gfissore/arxiv-abstracts-2021, ghadeermobasher/BC5CDR-Chemical-Disease, gorkemgoknar/tr_ted_talk_translated, huggingartists/slava-kpss, huggingartists/taylor-swift, huggingface/cats-image, huggingface/documentation-images, iarfmoose/question_generator, imvladikon/hebrew_speech_coursera, imvladikon/hebrew_speech_kan, jfrenz/legalglue, jglaser/binding_affinity, jonfd/ICC, kmfoda/booksum, kresnik/zeroth_korean, kroshan/BioASQ, lbox/lbox_open, lewtun/github-issues, limjiayi/hateful_memes_expanded, liweili/c4_200m, luomingshuang/GRID_audio, luozhouyang/dureader, codeparrot/codeparrot-clean, lysandre/image-to-text, maxmoynan/SemEval2017-Task4aEnglish, merve/folk-mythology-tales, merve/poetry, merve/qqp, tasksource/crowdflower, midas/duc2001, mozilla-foundation/common_voice_1_0, mozilla-foundation/common_voice_4_0, mozilla-foundation/common_voice_8_0, msarmi9/korean-english-multitarget-ted-talks-task, nateraw/fairface, nickmuchi/financial-classification, omar-sharif/BAD-Bengali-Aggressive-Text-Dataset, openclimatefix/nimrod-uk-1km, oscar-corpus/OSCAR-2109, ought/raft, papluca/language-identification, persiannlp/parsinlu_translation_en_fa, persiannlp/parsinlu_translation_fa_en, pile-of-law/pile-of-law, pmc/open_access, MLCommons/ml_spoken_words, princeton-nlp/datasets-for-simcse, pritamdeka/cord-19-abstract, qanastek/ELRC-Medical-V2, qanastek/WMT-16-PubMed, rahular/itihasa, seamew/Weibo, segments/sidewalk-semantic, sentence-transformers/embedding-training-data, sentence-transformers/msmarco-hard-negatives, sentence-transformers/reddit-title-body, shibing624/nli_zh, shibing624/source_code, softcatala/catalan-dictionary, solomonk/reddit_mental_health_posts, spasis/datasets-github-issues, stas/openwebtext-10k, teven/github_all_lang_filtered, transformersbook/codeparrot, ucberkeley-dlab/measuring-hate-speech, unicamp-dl/mmarco, vblagoje/lfqa, vocab-transformers/wiki-en-passages-20210101, winvoker/turkish-sentiment-analysis-dataset, wmt/wikititles, botisan-ai/cantonese-mandarin-translations, xiaobendanyn/tacred, ydshieh/coco_dataset_script, ysharma/rickandmorty, z-uo/female-LJSpeech-italian, z-uo/male-LJSpeech-italian, huggan/anime-faces, nlpaueb/finer-139, google/xtreme_s, batterydata/paper-abstracts, laion/relaion2B-en-research-safe, laion/relaion2B-multi-research-safe, nthngdy/oscar-mini, Georgii/poetry-genre, ai4bharat/IndicSentenceSummarization, Azu/Handwritten-Mathematical-Expression-Convert-LaTeX, Biomedical-TeMU/ProfNER_corpus_classification, McGill-NLP/feedbackQA, Khedesh/PeymaNER, microsoft/CLUES, ctheodoris/Genecorpus-30M, SetFit/amazon_reviews_multi_ja, reatiny/chinese-spam-10000, Stanford/wikitablequestions, oscar-corpus/OSCAR-2201, ontonotes/conll2012_ontonotesv5, hazal/Turkish-Biomedical-corpus-trM, jorge-henao/disco_poetry_spanish, tomekkorbak/pile-curse-small, rubrix/research_papers_multi-label, franz96521/scientific_papers, malteos/aspect-paper-embeddings, yhavinga/ccmatrix, dannyvas23/notas_suicidios, hazal/electronic-radiology-phd-thesis-trR, Monash-University/monash_tsf, nielsr/CelebA-faces, josearangos/spanish-calls-corpus-Home, josearangos/spanish-calls-corpus-Friends, openclimatefix/mrms, nthngdy/oscar-small, huggan/cityscapes, sentence-transformers/NQ-retrieval, huggan/cats, Gare/Classical_Chinese_to_Modern_Chinese, wesamhaddad14/spanishNLP, community-datasets/roman_urdu_hate_speech, facebook/winoground, jglaser/pdbbind_complexes, smilegate-ai/kor_unsmile, laion/conceptual-captions-12m-webdataset, AI-Secure/adv_glue, carolina-c4ai/corpus-carolina, laion/laion-synthetic-115m, h4iku/coconut_javascript2010, vlsb/autotrain-data-security-texts-classification-distilroberta, Atnafu/Parallel_dataset_for_Ethiopian_languages, LeoFeng/MLHW_6, huggan/CelebA-faces-with-attributes, jglaser/pdb_protein_ligand_complexes, DMetaSoul/chinese-semantic-textual-similarity, copenlu/fever_gold_evidence, marksverdhei/wordnet-definitions-en-2021, somosnlp-hackathon-2022/spanish-to-quechua, somosnlp-hackathon-2022/readability-es-caes, huggan/flowers-102-categories, jet-universe/jetclass, huggan/sim2real_gta5_to_cityscapes, huggan/wikiart, Chris1/cityscapes, Chris1/GTA5, ukr-models/Ukr-Synth, bible-nlp/biblenlp-corpus, iluvvatar/NEREL, NLPC-UOM/Sinhala-News-Category-classification, McGill-NLP/TopiOCQA, huggingnft/cyberkongz, nsusemiehl/SciERC, enimai/MuST-C-de, arakesh/deepglobe-2448x2448, patriziobellan/PET, google-research-datasets/conceptual_captions, miccull/met_museum, Chris1/the-art-of-seasons, rasikabh/pile-pii, horsbug98/ai4bharat_ben_tel_train, stepp1/tweet_emotion_intensity, kniemiec/crack-segmentation, NbAiLab/NST, aharley/rvl_cdip, Goud/Goud-sum, Pavithree/eli5_split, qanastek/MASSIVE, saattrupdan/doc-nli, PolyAI/banking77, osyvokon/pavlick-formality-scores, davanstrien/bl_books_embellishments, mathigatti/spanish_imdb_synopsis, chrisjay/crowd-speech-africa, strombergnlp/broad_twitter_corpus, nielsr/funsd-layoutlmv3, mozilla-foundation/common_voice_9_0, toxigen/toxigen-data, google/wit, wikimedia/wit_base, pauli31/czech-subjectivity-dataset, wza/roc_stories, LHF/escorpius-mr, allenai/drug-combo-extraction, Ukhushn/home-depot, facebook/textvqa\n"
     ]
    }
   ],
   "source": [
    "# investigate datasets\n",
    "from nlp import list_datasets\n",
    "datasets_list = list_datasets()\n",
    "print(', '.join(dataset.id for dataset in datasets_list))"
   ]
  },
  {
   "cell_type": "code",
   "execution_count": null,
   "metadata": {},
   "outputs": [
    {
     "name": "stdout",
     "output_type": "stream",
     "text": [
      "{'text': ['i didnt feel humiliated', 'i can go from feeling so hopeless to so damned hopeful just from being around someone who cares and is awake', 'im grabbing a minute to post i feel greedy wrong', 'i am ever feeling nostalgic about the fireplace i will know that it is still on the property', 'i am feeling grouchy', 'ive been feeling a little burdened lately wasnt sure why that was', 'ive been taking or milligrams or times recommended amount and ive fallen asleep a lot faster but i also feel like so funny', 'i feel as confused about life as a teenager or as jaded as a year old man', 'i have been with petronas for years i feel that petronas has performed well and made a huge profit', 'i feel romantic too'], 'label': [0, 0, 3, 2, 3, 0, 5, 4, 1, 2]}\n",
      "{'text': ['im feeling rather rotten so im not very ambitious right now', 'im updating my blog because i feel shitty', 'i never make her separate from me because i don t ever want her to feel like i m ashamed with her', 'i left with my bouquet of red and yellow tulips under my arm feeling slightly more optimistic than when i arrived', 'i was feeling a little vain when i did this one', 'i cant walk into a shop anywhere where i do not feel uncomfortable', 'i felt anger when at the end of a telephone call', 'i explain why i clung to a relationship with a boy who was in many ways immature and uncommitted despite the excitement i should have been feeling for getting accepted into the masters program at the university of virginia', 'i like to have the same breathless feeling as a reader eager to see what will happen next', 'i jest i feel grumpy tired and pre menstrual which i probably am but then again its only been a week and im about as fit as a walrus on vacation for the summer'], 'label': [0, 0, 0, 1, 0, 4, 3, 1, 1, 3]}\n",
      "{'text': ['im feeling quite sad and sorry for myself but ill snap out of it soon', 'i feel like i am still looking at a blank canvas blank pieces of paper', 'i feel like a faithful servant', 'i am just feeling cranky and blue', 'i can have for a treat or if i am feeling festive', 'i start to feel more appreciative of what god has done for me', 'i am feeling more confident that we will be able to take care of this baby', 'i feel incredibly lucky just to be able to talk to her', 'i feel less keen about the army every day', 'i feel dirty and ashamed for saying that'], 'label': [0, 0, 2, 3, 1, 1, 1, 1, 1, 0]}\n",
      "DatasetDict({\n",
      "    train: Dataset({\n",
      "        features: ['text', 'label'],\n",
      "        num_rows: 16000\n",
      "    })\n",
      "    validation: Dataset({\n",
      "        features: ['text', 'label'],\n",
      "        num_rows: 2000\n",
      "    })\n",
      "    test: Dataset({\n",
      "        features: ['text', 'label'],\n",
      "        num_rows: 2000\n",
      "    })\n",
      "})\n"
     ]
    }
   ],
   "source": [
    "from datasets import load_dataset\n",
    "\n",
    "dataset = load_dataset(\"dair-ai/emotion\")\n",
    "\n",
    "train_set = dataset['train']\n",
    "test_set = dataset['test']\n",
    "validation_set = dataset['validation']\n",
    "\n",
    "# # print the first ten indicies\n",
    "# print(train_set[0:10])\n",
    "# print(test_set[0:10])\n",
    "# print(validation_set[0:10])\n",
    "# print(dataset)\n"
   ]
  },
  {
   "cell_type": "markdown",
   "metadata": {},
   "source": [
    "# Load data and extract features and labels\n"
   ]
  },
  {
   "cell_type": "code",
   "execution_count": 41,
   "metadata": {},
   "outputs": [],
   "source": [
    "####################################################\n",
    "# Extract the features and labels from the dataset \n",
    "####################################################\n",
    "def get_data(data): \n",
    "    features = [x['text'] for x in data]\n",
    "    labels = [x['label'] for x in data]\n",
    "    return features, labels\n",
    "\n",
    "####################################################\n",
    "# Map labels \n",
    "####################################################\n",
    "# Rename labels\n",
    "label_mapping = {\n",
    "    0: \"Sadness\",\n",
    "    1: \"Joy\",\n",
    "    2: \"Love\",\n",
    "    3: \"Anger\",\n",
    "    4: \"Fear\",\n",
    "    5: \"Surprise\",\n",
    "}\n",
    "\n",
    "\n",
    "features, pre_proccessed_labels = get_data(train_set)\n",
    "\n",
    "# Replace numeric values with word labels\n",
    "def map_labels(labels_data): \n",
    "    return [label_mapping[pre_proccessed_labels] for pre_proccessed_labels in labels_data]\n",
    "\n",
    "# Apply function\n",
    "labels = map_labels(pre_proccessed_labels)"
   ]
  },
  {
   "cell_type": "markdown",
   "metadata": {},
   "source": [
    "# Tokenizing the data"
   ]
  },
  {
   "cell_type": "code",
   "execution_count": null,
   "metadata": {},
   "outputs": [
    {
     "data": {
      "image/png": "[encoded data removed]",
      "text/plain": [
       "<Figure size 640x480 with 1 Axes>"
      ]
     },
     "metadata": {},
     "output_type": "display_data"
    }
   ],
   "source": [
    "####################################################\n",
    "# Vocabulary builder \n",
    "####################################################\n",
    "\n",
    "# Keep only the 10,000 most frequently used words in the dataset and ignore less frequent words --> reduce dictionary size \n",
    "# Represent out of vocabulary words with <UNK>\n",
    "tokenizer = Tokenizer(num_words = 10000, oov_token = '<UNKNOWN>')\n",
    "\n",
    "# Build the vocab for the tokenizer based on the features data \n",
    "tokenizer.fit_on_texts(features)\n",
    "\n",
    "#  convert strings to integers based on the vocab built above \n",
    "tokenizer.texts_to_sequences([features])\n",
    "\n",
    "####################################################\n",
    "# Pad sequences \n",
    "####################################################\n",
    "# Get the length of each text in features, split it by spaces \n",
    "lengths = [len(text.split (' ')) for text in features] \n",
    "plt.hist(lengths, bins = len(set(lengths)))\n",
    "\n",
    "# Set a max length of 60 because it looks like outliers beyond that, and pad them with zeroes. \n",
    "maxlen = 60\n",
    "\n",
    "# Define function to get sequences for different sets \n",
    "def get_sequences(tokenizer, features): \n",
    "    sequences = tokenizer.texts_to_sequences(features) # get sequences\n",
    "    padded = pad_sequences(sequences, truncating = 'post', padding = 'post', maxlen = maxlen) # truncate at the end of the sequence, if our sequence length is < maxlen the last 10 elements will be added with padding\n",
    "    return padded \n",
    "\n",
    "# Pad sequences for the training set\n",
    "padded_train_seq = get_sequences(tokenizer, features)\n"
   ]
  },
  {
   "cell_type": "markdown",
   "metadata": {},
   "source": [
    "# Prepare the labels "
   ]
  },
  {
   "cell_type": "code",
   "execution_count": 60,
   "metadata": {},
   "outputs": [
    {
     "name": "stdout",
     "output_type": "stream",
     "text": [
      "{'Anger', 'Surprise', 'Sadness', 'Fear', 'Love', 'Joy'}\n"
     ]
    },
    {
     "data": {
      "text/plain": [
       "array([2, 2, 0, ..., 5, 0, 2])"
      ]
     },
     "execution_count": 60,
     "metadata": {},
     "output_type": "execute_result"
    },
    {
     "data": {
      "image/png": "[encoded data removed]",
      "text/plain": [
       "<Figure size 640x480 with 1 Axes>"
      ]
     },
     "metadata": {},
     "output_type": "display_data"
    }
   ],
   "source": [
    "####################################################\n",
    "# Visualise frequency of emotion from tweets\n",
    "# # Note: worth investigating how we can adress the imbalance of classes in the future \n",
    "####################################################\n",
    "\n",
    "classes = set(labels) # create unordered collection of unique elements (remove duplicates)\n",
    "print(classes)\n",
    "plt.hist(labels, bins = len(classes) + 5) # +5 to add some space between the bars\n",
    "\n",
    "####################################################\n",
    "# Create a dictionary to map class names to numeric values\n",
    "####################################################\n",
    "\n",
    "class_to_index = dict((c, i) for i, c in enumerate(classes)) # Key = Class name, Value = Numeric representation. Enumerate over the classes to get the index and class name.\n",
    "index_to_class = dict((i, c) for i, c in enumerate(classes)) # Key = Numeric representation, Value = Class name. Enumerate over the classes to get the index and class name.\n",
    "\n",
    "# use lambda because we need to convert labels to numeric values in multple places \n",
    "names_to_ids = lambda labels: np.array([class_to_index[label] for label in labels]) # Convert the labels to their numeric representation using the dictionary above.\n",
    "train_labels = names_to_ids(labels) # Convert the labels to their numeric representation using the dictionary above.\n",
    "train_labels"
   ]
  },
  {
   "cell_type": "markdown",
   "metadata": {},
   "source": [
    "# Training the model "
   ]
  }
 ],
 "metadata": {
  "kernelspec": {
   "display_name": ".venv",
   "language": "python",
   "name": "python3"
  },
  "language_info": {
   "codemirror_mode": {
    "name": "ipython",
    "version": 3
   },
   "file_extension": ".py",
   "mimetype": "text/x-python",
   "name": "python",
   "nbconvert_exporter": "python",
   "pygments_lexer": "ipython3",
   "version": "3.11.5"
  }
 },
 "nbformat": 4,
 "nbformat_minor": 2
}
